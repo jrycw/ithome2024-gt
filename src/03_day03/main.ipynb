{
 "cells": [
  {
   "cell_type": "code",
   "execution_count": 1,
   "metadata": {},
   "outputs": [
    {
     "name": "stdout",
     "output_type": "stream",
     "text": [
      "   nrs    random\n",
      "0    1  0.374540\n",
      "1    2  0.950714\n",
      "2    3  0.731994\n",
      "3    4  0.598658\n",
      "4    5  0.156019\n"
     ]
    }
   ],
   "source": [
    "import numpy as np\n",
    "import pandas as pd\n",
    "\n",
    "\n",
    "np.random.seed(42)\n",
    "data = {\"nrs\": [1, 2, 3, 4, 5], \"random\": np.random.rand(5)}\n",
    "df = pd.DataFrame(data)\n",
    "df\n",
    "print(df)"
   ]
  },
  {
   "cell_type": "markdown",
   "metadata": {},
   "source": [
    "## assign"
   ]
  },
  {
   "cell_type": "markdown",
   "metadata": {},
   "source": [
    "### 新增a欄"
   ]
  },
  {
   "cell_type": "code",
   "execution_count": 2,
   "metadata": {},
   "outputs": [
    {
     "name": "stdout",
     "output_type": "stream",
     "text": [
      "   nrs    random   a\n",
      "0    1  0.374540   6\n",
      "1    2  0.950714   7\n",
      "2    3  0.731994   8\n",
      "3    4  0.598658   9\n",
      "4    5  0.156019  10\n"
     ]
    }
   ],
   "source": [
    "(df.assign(a=[6, 7, 8, 9, 10]))\n",
    "print((df.assign(a=[6, 7, 8, 9, 10])))"
   ]
  },
  {
   "cell_type": "markdown",
   "metadata": {},
   "source": [
    "### 新增\\*a\\*欄"
   ]
  },
  {
   "cell_type": "code",
   "execution_count": 3,
   "metadata": {},
   "outputs": [
    {
     "name": "stdout",
     "output_type": "stream",
     "text": [
      "   nrs    random  *a*\n",
      "0    1  0.374540    6\n",
      "1    2  0.950714    7\n",
      "2    3  0.731994    8\n",
      "3    4  0.598658    9\n",
      "4    5  0.156019   10\n"
     ]
    }
   ],
   "source": [
    "(df.assign(**{\"*a*\": [6, 7, 8, 9, 10]}))\n",
    "print((df.assign(**{\"*a*\": [6, 7, 8, 9, 10]})))"
   ]
  },
  {
   "cell_type": "markdown",
   "metadata": {},
   "source": [
    "### 新增a欄(lambda)"
   ]
  },
  {
   "cell_type": "code",
   "execution_count": 4,
   "metadata": {},
   "outputs": [
    {
     "name": "stdout",
     "output_type": "stream",
     "text": [
      "   nrs    random  a\n",
      "0    1  0.374540  2\n",
      "1    2  0.950714  3\n",
      "2    3  0.731994  4\n",
      "3    4  0.598658  5\n",
      "4    5  0.156019  6\n"
     ]
    }
   ],
   "source": [
    "(df.assign(a=lambda df_: df_.nrs.add(1)))\n",
    "print((df.assign(a=lambda df_: df_.nrs.add(1))))"
   ]
  },
  {
   "cell_type": "markdown",
   "metadata": {},
   "source": [
    "### 同時新增a, b欄"
   ]
  },
  {
   "cell_type": "code",
   "execution_count": 5,
   "metadata": {},
   "outputs": [
    {
     "name": "stdout",
     "output_type": "stream",
     "text": [
      "   nrs    random  a  b\n",
      "0    1  0.374540  2  3\n",
      "1    2  0.950714  3  4\n",
      "2    3  0.731994  4  5\n",
      "3    4  0.598658  5  6\n",
      "4    5  0.156019  6  7\n"
     ]
    }
   ],
   "source": [
    "(df.assign(a=lambda df_: df_.nrs.add(1), b=lambda df_: df_.a.add(1)))\n",
    "print((df.assign(a=lambda df_: df_.nrs.add(1), b=lambda df_: df_.a.add(1))))"
   ]
  },
  {
   "cell_type": "markdown",
   "metadata": {},
   "source": [
    "### 新增a欄(df)"
   ]
  },
  {
   "cell_type": "code",
   "execution_count": 6,
   "metadata": {},
   "outputs": [
    {
     "name": "stdout",
     "output_type": "stream",
     "text": [
      "   nrs    random  a\n",
      "0    1  0.374540  2\n",
      "1    2  0.950714  3\n",
      "2    3  0.731994  4\n",
      "3    4  0.598658  5\n",
      "4    5  0.156019  6\n"
     ]
    }
   ],
   "source": [
    "(df.assign(a=df.nrs.add(1)))\n",
    "print((df.assign(a=df.nrs.add(1))))"
   ]
  },
  {
   "cell_type": "markdown",
   "metadata": {},
   "source": [
    "### 修改nrs欄位"
   ]
  },
  {
   "cell_type": "code",
   "execution_count": 7,
   "metadata": {},
   "outputs": [
    {
     "name": "stdout",
     "output_type": "stream",
     "text": [
      "   nrs    random\n",
      "0    0  0.374540\n",
      "1    1  0.950714\n",
      "2    2  0.731994\n",
      "3    3  0.598658\n",
      "4    4  0.156019\n"
     ]
    }
   ],
   "source": [
    "(df.assign(nrs=lambda df_: df_.nrs.sub(1)))\n",
    "print((df.assign(nrs=lambda df_: df_.nrs.sub(1))))"
   ]
  },
  {
   "cell_type": "markdown",
   "metadata": {},
   "source": [
    "### 完全替換nrs欄位至另一型態"
   ]
  },
  {
   "cell_type": "code",
   "execution_count": 8,
   "metadata": {},
   "outputs": [
    {
     "name": "stdout",
     "output_type": "stream",
     "text": [
      "  nrs    random\n",
      "0   a  0.374540\n",
      "1   b  0.950714\n",
      "2   c  0.731994\n",
      "3   d  0.598658\n",
      "4   e  0.156019\n"
     ]
    }
   ],
   "source": [
    "(df.assign(nrs=list(\"abcde\")))\n",
    "print((df.assign(nrs=list(\"abcde\"))))"
   ]
  },
  {
   "cell_type": "markdown",
   "metadata": {},
   "source": [
    "### \\\".\"與\"[]\""
   ]
  },
  {
   "cell_type": "code",
   "execution_count": 9,
   "metadata": {},
   "outputs": [
    {
     "name": "stdout",
     "output_type": "stream",
     "text": [
      "   nrs    random  a\n",
      "0    1  0.374540  2\n",
      "1    2  0.950714  3\n",
      "2    3  0.731994  4\n",
      "3    4  0.598658  5\n",
      "4    5  0.156019  6\n"
     ]
    }
   ],
   "source": [
    "(df.assign(a=lambda df_: df_.nrs.add(1)))\n",
    "\n",
    "(df.assign(a=lambda df_: df_[\"nrs\"].add(1)))\n",
    "print((df.assign(a=lambda df_: df_[\"nrs\"].add(1))))"
   ]
  },
  {
   "cell_type": "markdown",
   "metadata": {},
   "source": [
    "### Get attributes first, not column names"
   ]
  },
  {
   "cell_type": "code",
   "execution_count": 10,
   "metadata": {},
   "outputs": [
    {
     "name": "stdout",
     "output_type": "stream",
     "text": [
      "      0  1  2  3  4\n",
      "size  1  2  3  4  5\n",
      "T     4  5  6  7  8\n",
      "10\n"
     ]
    }
   ],
   "source": [
    "data = {\"size\": [1, 2, 3, 4, 5], \"T\": [4, 5, 6, 7, 8]}\n",
    "df2 = pd.DataFrame(data)\n",
    "print(df2.T)  # transpose\n",
    "print(df2.size)  # 10"
   ]
  },
  {
   "cell_type": "markdown",
   "metadata": {},
   "source": [
    "## query"
   ]
  },
  {
   "cell_type": "code",
   "execution_count": 11,
   "metadata": {},
   "outputs": [
    {
     "name": "stdout",
     "output_type": "stream",
     "text": [
      "   nrs    random\n",
      "4    5  0.156019\n"
     ]
    }
   ],
   "source": [
    "(df.query(\"nrs > random*10\"))\n",
    "print((df.query(\"nrs > random*10\")))"
   ]
  },
  {
   "cell_type": "code",
   "execution_count": 12,
   "metadata": {},
   "outputs": [
    {
     "name": "stdout",
     "output_type": "stream",
     "text": [
      "   nrs    random\n",
      "3    4  0.598658\n",
      "4    5  0.156019\n"
     ]
    }
   ],
   "source": [
    "target = 3\n",
    "(df.query(\"nrs > @target\"))\n",
    "print((df.query(\"nrs > @target\")))"
   ]
  },
  {
   "cell_type": "code",
   "execution_count": 13,
   "metadata": {},
   "outputs": [
    {
     "name": "stdout",
     "output_type": "stream",
     "text": [
      "   nrs    random\n",
      "0    1  0.374540\n",
      "3    4  0.598658\n",
      "4    5  0.156019\n"
     ]
    }
   ],
   "source": [
    "(df.query(\"nrs > @target | nrs==1\"))\n",
    "print((df.query(\"nrs > @target | nrs==1\")))"
   ]
  },
  {
   "cell_type": "code",
   "execution_count": 14,
   "metadata": {},
   "outputs": [
    {
     "name": "stdout",
     "output_type": "stream",
     "text": [
      "   nrs    random\n",
      "4    5  0.156019\n"
     ]
    }
   ],
   "source": [
    "(df.loc[df[\"nrs\"] > df[\"random\"] * 10])\n",
    "print((df.loc[df[\"nrs\"] > df[\"random\"] * 10]))"
   ]
  },
  {
   "cell_type": "code",
   "execution_count": 15,
   "metadata": {},
   "outputs": [
    {
     "name": "stdout",
     "output_type": "stream",
     "text": [
      "   nrs    random\n",
      "3    4  0.598658\n",
      "4    5  0.156019\n"
     ]
    }
   ],
   "source": [
    "(df.loc[df[\"nrs\"] > target])\n",
    "print((df.loc[df[\"nrs\"] > target]))"
   ]
  },
  {
   "cell_type": "code",
   "execution_count": 16,
   "metadata": {},
   "outputs": [
    {
     "name": "stdout",
     "output_type": "stream",
     "text": [
      "   nrs    random\n",
      "0    1  0.374540\n",
      "3    4  0.598658\n",
      "4    5  0.156019\n"
     ]
    }
   ],
   "source": [
    "(df.loc[(df[\"nrs\"] > target) | (df[\"nrs\"] == 1)])\n",
    "print((df.loc[(df[\"nrs\"] > target) | (df[\"nrs\"] == 1)]))"
   ]
  },
  {
   "cell_type": "code",
   "execution_count": 17,
   "metadata": {},
   "outputs": [],
   "source": [
    "# ValueError: The truth value of a Series is ambiguous. Use a.empty, a.bool(), a.item(), a.any() or a.all().\n",
    "# (\n",
    "#     df.loc[df[\"nrs\"] > target | df[\"nrs\"]== 1]\n",
    "# )"
   ]
  },
  {
   "cell_type": "markdown",
   "metadata": {
    "vscode": {
     "languageId": "plaintext"
    }
   },
   "source": [
    "## pipe"
   ]
  },
  {
   "cell_type": "code",
   "execution_count": 18,
   "metadata": {},
   "outputs": [
    {
     "name": "stdout",
     "output_type": "stream",
     "text": [
      "   nrs    random    a    b\n",
      "0    1  0.374540  100  101\n",
      "1    2  0.950714    3    4\n",
      "2    3  0.731994  100  101\n",
      "3    4  0.598658    5    6\n",
      "4    5  0.156019    6    7\n"
     ]
    }
   ],
   "source": [
    "def change_value(df_, col_name, value):\n",
    "    df_.loc[[0, 2], col_name] = value\n",
    "    return df_\n",
    "\n",
    "\n",
    "(\n",
    "    df.assign(a=lambda df_: df_.nrs.add(1))\n",
    "    .pipe(change_value, \"a\", 100)\n",
    "    .assign(b=lambda df_: df_.a.add(1))\n",
    ")\n",
    "\n",
    "print(\n",
    "    (\n",
    "        df.assign(a=lambda df_: df_.nrs.add(1))\n",
    "        .pipe(change_value, \"a\", 100)\n",
    "        .assign(b=lambda df_: df_.a.add(1))\n",
    "    )\n",
    ")"
   ]
  }
 ],
 "metadata": {
  "kernelspec": {
   "display_name": "venv",
   "language": "python",
   "name": "python3"
  },
  "language_info": {
   "codemirror_mode": {
    "name": "ipython",
    "version": 3
   },
   "file_extension": ".py",
   "mimetype": "text/x-python",
   "name": "python",
   "nbconvert_exporter": "python",
   "pygments_lexer": "ipython3",
   "version": "3.11.9"
  }
 },
 "nbformat": 4,
 "nbformat_minor": 2
}
