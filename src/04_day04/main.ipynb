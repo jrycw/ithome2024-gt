{
 "cells": [
  {
   "cell_type": "code",
   "execution_count": 1,
   "metadata": {},
   "outputs": [
    {
     "name": "stdout",
     "output_type": "stream",
     "text": [
      "shape: (5, 2)\n",
      "┌─────┬──────────┐\n",
      "│ nrs ┆ random   │\n",
      "│ --- ┆ ---      │\n",
      "│ i64 ┆ f64      │\n",
      "╞═════╪══════════╡\n",
      "│ 1   ┆ 0.37454  │\n",
      "│ 2   ┆ 0.950714 │\n",
      "│ 3   ┆ 0.731994 │\n",
      "│ 4   ┆ 0.598658 │\n",
      "│ 5   ┆ 0.156019 │\n",
      "└─────┴──────────┘\n"
     ]
    }
   ],
   "source": [
    "import numpy as np\n",
    "import polars as pl\n",
    "\n",
    "\n",
    "np.random.seed(42)\n",
    "data = {\"nrs\": [1, 2, 3, 4, 5], \"random\": np.random.rand(5)}\n",
    "df = pl.DataFrame(data)\n",
    "df\n",
    "print(df)"
   ]
  },
  {
   "cell_type": "markdown",
   "metadata": {},
   "source": [
    "## with_columns"
   ]
  },
  {
   "cell_type": "code",
   "execution_count": 2,
   "metadata": {},
   "outputs": [
    {
     "name": "stdout",
     "output_type": "stream",
     "text": [
      "shape: (5, 3)\n",
      "┌─────┬──────────┬──────────────┐\n",
      "│ nrs ┆ random   ┆ a            │\n",
      "│ --- ┆ ---      ┆ ---          │\n",
      "│ i64 ┆ f64      ┆ list[i64]    │\n",
      "╞═════╪══════════╪══════════════╡\n",
      "│ 1   ┆ 0.37454  ┆ [6, 7, … 10] │\n",
      "│ 2   ┆ 0.950714 ┆ [6, 7, … 10] │\n",
      "│ 3   ┆ 0.731994 ┆ [6, 7, … 10] │\n",
      "│ 4   ┆ 0.598658 ┆ [6, 7, … 10] │\n",
      "│ 5   ┆ 0.156019 ┆ [6, 7, … 10] │\n",
      "└─────┴──────────┴──────────────┘\n"
     ]
    }
   ],
   "source": [
    "# wrong\n",
    "(df.with_columns(a=[6, 7, 8, 9, 10]))\n",
    "print((df.with_columns(a=[6, 7, 8, 9, 10])))"
   ]
  },
  {
   "cell_type": "code",
   "execution_count": 3,
   "metadata": {},
   "outputs": [
    {
     "name": "stdout",
     "output_type": "stream",
     "text": [
      "shape: (5, 3)\n",
      "┌─────┬──────────┬─────┐\n",
      "│ nrs ┆ random   ┆ a   │\n",
      "│ --- ┆ ---      ┆ --- │\n",
      "│ i64 ┆ f64      ┆ i64 │\n",
      "╞═════╪══════════╪═════╡\n",
      "│ 1   ┆ 0.37454  ┆ 6   │\n",
      "│ 2   ┆ 0.950714 ┆ 7   │\n",
      "│ 3   ┆ 0.731994 ┆ 8   │\n",
      "│ 4   ┆ 0.598658 ┆ 9   │\n",
      "│ 5   ┆ 0.156019 ┆ 10  │\n",
      "└─────┴──────────┴─────┘\n"
     ]
    }
   ],
   "source": [
    "(df.with_columns(a=pl.arange(6, 11)))\n",
    "print((df.with_columns(a=pl.arange(6, 11))))"
   ]
  },
  {
   "cell_type": "code",
   "execution_count": 4,
   "metadata": {},
   "outputs": [
    {
     "name": "stdout",
     "output_type": "stream",
     "text": [
      "shape: (5, 3)\n",
      "┌─────┬──────────┬─────┐\n",
      "│ nrs ┆ random   ┆ *a* │\n",
      "│ --- ┆ ---      ┆ --- │\n",
      "│ i64 ┆ f64      ┆ i64 │\n",
      "╞═════╪══════════╪═════╡\n",
      "│ 1   ┆ 0.37454  ┆ 6   │\n",
      "│ 2   ┆ 0.950714 ┆ 7   │\n",
      "│ 3   ┆ 0.731994 ┆ 8   │\n",
      "│ 4   ┆ 0.598658 ┆ 9   │\n",
      "│ 5   ┆ 0.156019 ┆ 10  │\n",
      "└─────┴──────────┴─────┘\n"
     ]
    }
   ],
   "source": [
    "(df.with_columns(pl.arange(6, 11).alias(\"*a*\")))\n",
    "print((df.with_columns(pl.arange(6, 11).alias(\"*a*\"))))"
   ]
  },
  {
   "cell_type": "code",
   "execution_count": 5,
   "metadata": {},
   "outputs": [
    {
     "name": "stdout",
     "output_type": "stream",
     "text": [
      "shape: (5, 3)\n",
      "┌─────┬──────────┬─────┐\n",
      "│ nrs ┆ random   ┆ a   │\n",
      "│ --- ┆ ---      ┆ --- │\n",
      "│ i64 ┆ f64      ┆ i64 │\n",
      "╞═════╪══════════╪═════╡\n",
      "│ 1   ┆ 0.37454  ┆ 2   │\n",
      "│ 2   ┆ 0.950714 ┆ 3   │\n",
      "│ 3   ┆ 0.731994 ┆ 4   │\n",
      "│ 4   ┆ 0.598658 ┆ 5   │\n",
      "│ 5   ┆ 0.156019 ┆ 6   │\n",
      "└─────┴──────────┴─────┘\n"
     ]
    }
   ],
   "source": [
    "(df.with_columns(a=pl.col(\"nrs\").add(1)))\n",
    "print((df.with_columns(a=pl.col(\"nrs\").add(1))))"
   ]
  },
  {
   "cell_type": "code",
   "execution_count": 6,
   "metadata": {},
   "outputs": [],
   "source": [
    "# ColumnNotFoundError\n",
    "# (df.with_columns(pl.col(\"nrs\").alias(\"a\"), pl.col(\"a\").add(1).alias(\"b\")))"
   ]
  },
  {
   "cell_type": "code",
   "execution_count": 7,
   "metadata": {},
   "outputs": [
    {
     "name": "stdout",
     "output_type": "stream",
     "text": [
      "shape: (5, 4)\n",
      "┌─────┬──────────┬─────┬─────┐\n",
      "│ nrs ┆ random   ┆ a   ┆ b   │\n",
      "│ --- ┆ ---      ┆ --- ┆ --- │\n",
      "│ i64 ┆ f64      ┆ i64 ┆ i64 │\n",
      "╞═════╪══════════╪═════╪═════╡\n",
      "│ 1   ┆ 0.37454  ┆ 1   ┆ 2   │\n",
      "│ 2   ┆ 0.950714 ┆ 2   ┆ 3   │\n",
      "│ 3   ┆ 0.731994 ┆ 3   ┆ 4   │\n",
      "│ 4   ┆ 0.598658 ┆ 4   ┆ 5   │\n",
      "│ 5   ┆ 0.156019 ┆ 5   ┆ 6   │\n",
      "└─────┴──────────┴─────┴─────┘\n"
     ]
    }
   ],
   "source": [
    "(\n",
    "    df.with_columns(pl.col(\"nrs\").alias(\"a\")).with_columns(\n",
    "        pl.col(\"a\").add(1).alias(\"b\")\n",
    "    )\n",
    ")\n",
    "\n",
    "print(\n",
    "    (\n",
    "        df.with_columns(pl.col(\"nrs\").alias(\"a\")).with_columns(\n",
    "            pl.col(\"a\").add(1).alias(\"b\")\n",
    "        )\n",
    "    )\n",
    ")"
   ]
  },
  {
   "cell_type": "code",
   "execution_count": 8,
   "metadata": {},
   "outputs": [
    {
     "name": "stdout",
     "output_type": "stream",
     "text": [
      "shape: (5, 2)\n",
      "┌─────┬──────────┐\n",
      "│ nrs ┆ random   │\n",
      "│ --- ┆ ---      │\n",
      "│ i64 ┆ f64      │\n",
      "╞═════╪══════════╡\n",
      "│ 0   ┆ 0.37454  │\n",
      "│ 1   ┆ 0.950714 │\n",
      "│ 2   ┆ 0.731994 │\n",
      "│ 3   ┆ 0.598658 │\n",
      "│ 4   ┆ 0.156019 │\n",
      "└─────┴──────────┘\n"
     ]
    }
   ],
   "source": [
    "(df.with_columns(pl.col(\"nrs\").sub(1)))\n",
    "print((df.with_columns(pl.col(\"nrs\").sub(1))))"
   ]
  },
  {
   "cell_type": "code",
   "execution_count": 9,
   "metadata": {},
   "outputs": [
    {
     "name": "stdout",
     "output_type": "stream",
     "text": [
      "shape: (5, 2)\n",
      "┌─────┬──────────┐\n",
      "│ nrs ┆ random   │\n",
      "│ --- ┆ ---      │\n",
      "│ str ┆ f64      │\n",
      "╞═════╪══════════╡\n",
      "│ a   ┆ 0.37454  │\n",
      "│ b   ┆ 0.950714 │\n",
      "│ c   ┆ 0.731994 │\n",
      "│ d   ┆ 0.598658 │\n",
      "│ e   ┆ 0.156019 │\n",
      "└─────┴──────────┘\n"
     ]
    }
   ],
   "source": [
    "(df.with_columns(nrs=pl.Series(list(\"abcde\")).explode()))\n",
    "print((df.with_columns(nrs=pl.Series(list(\"abcde\")).explode())))"
   ]
  },
  {
   "cell_type": "markdown",
   "metadata": {},
   "source": [
    "## select"
   ]
  },
  {
   "cell_type": "code",
   "execution_count": 10,
   "metadata": {},
   "outputs": [
    {
     "name": "stdout",
     "output_type": "stream",
     "text": [
      "shape: (5, 1)\n",
      "┌─────┐\n",
      "│ nrs │\n",
      "│ --- │\n",
      "│ i64 │\n",
      "╞═════╡\n",
      "│ 1   │\n",
      "│ 2   │\n",
      "│ 3   │\n",
      "│ 4   │\n",
      "│ 5   │\n",
      "└─────┘\n"
     ]
    }
   ],
   "source": [
    "(df.select(\"nrs\"))\n",
    "print((df.select(\"nrs\")))"
   ]
  },
  {
   "cell_type": "code",
   "execution_count": 11,
   "metadata": {},
   "outputs": [
    {
     "name": "stdout",
     "output_type": "stream",
     "text": [
      "shape: (5, 1)\n",
      "┌─────┐\n",
      "│ nrs │\n",
      "│ --- │\n",
      "│ i64 │\n",
      "╞═════╡\n",
      "│ 1   │\n",
      "│ 2   │\n",
      "│ 3   │\n",
      "│ 4   │\n",
      "│ 5   │\n",
      "└─────┘\n"
     ]
    }
   ],
   "source": [
    "(df.select(pl.col(\"nrs\")))\n",
    "print((df.select(pl.col(\"nrs\"))))"
   ]
  },
  {
   "cell_type": "code",
   "execution_count": 12,
   "metadata": {},
   "outputs": [
    {
     "name": "stdout",
     "output_type": "stream",
     "text": [
      "shape: (5, 2)\n",
      "┌─────┬─────┐\n",
      "│ nrs ┆ a   │\n",
      "│ --- ┆ --- │\n",
      "│ i64 ┆ i64 │\n",
      "╞═════╪═════╡\n",
      "│ 1   ┆ 1   │\n",
      "│ 2   ┆ 2   │\n",
      "│ 3   ┆ 3   │\n",
      "│ 4   ┆ 4   │\n",
      "│ 5   ┆ 5   │\n",
      "└─────┴─────┘\n"
     ]
    }
   ],
   "source": [
    "(df.select(\"nrs\", pl.col(\"nrs\").alias(\"a\")))\n",
    "print((df.select(\"nrs\", pl.col(\"nrs\").alias(\"a\"))))"
   ]
  },
  {
   "cell_type": "code",
   "execution_count": 13,
   "metadata": {},
   "outputs": [
    {
     "name": "stdout",
     "output_type": "stream",
     "text": [
      "shape: (5, 2)\n",
      "┌──────────┬─────┐\n",
      "│ random   ┆ nrs │\n",
      "│ ---      ┆ --- │\n",
      "│ f64      ┆ i64 │\n",
      "╞══════════╪═════╡\n",
      "│ 0.37454  ┆ 1   │\n",
      "│ 0.950714 ┆ 2   │\n",
      "│ 0.731994 ┆ 3   │\n",
      "│ 0.598658 ┆ 4   │\n",
      "│ 0.156019 ┆ 5   │\n",
      "└──────────┴─────┘\n"
     ]
    }
   ],
   "source": [
    "(df.select(\"random\", \"nrs\"))\n",
    "print((df.select(\"random\", \"nrs\")))"
   ]
  },
  {
   "cell_type": "code",
   "execution_count": 14,
   "metadata": {},
   "outputs": [
    {
     "name": "stdout",
     "output_type": "stream",
     "text": [
      "shape: (5, 2)\n",
      "┌──────────┬─────┐\n",
      "│ random   ┆ nrs │\n",
      "│ ---      ┆ --- │\n",
      "│ f64      ┆ i64 │\n",
      "╞══════════╪═════╡\n",
      "│ 0.37454  ┆ 1   │\n",
      "│ 0.950714 ┆ 2   │\n",
      "│ 0.731994 ┆ 3   │\n",
      "│ 0.598658 ┆ 4   │\n",
      "│ 0.156019 ┆ 5   │\n",
      "└──────────┴─────┘\n"
     ]
    }
   ],
   "source": [
    "(df.select([\"random\", \"nrs\"]))\n",
    "print((df.select([\"random\", \"nrs\"])))"
   ]
  },
  {
   "cell_type": "markdown",
   "metadata": {
    "vscode": {
     "languageId": "plaintext"
    }
   },
   "source": [
    "## filter"
   ]
  },
  {
   "cell_type": "code",
   "execution_count": 15,
   "metadata": {},
   "outputs": [
    {
     "name": "stdout",
     "output_type": "stream",
     "text": [
      "shape: (1, 2)\n",
      "┌─────┬──────────┐\n",
      "│ nrs ┆ random   │\n",
      "│ --- ┆ ---      │\n",
      "│ i64 ┆ f64      │\n",
      "╞═════╪══════════╡\n",
      "│ 5   ┆ 0.156019 │\n",
      "└─────┴──────────┘\n"
     ]
    }
   ],
   "source": [
    "(df.filter(pl.col(\"nrs\").gt(pl.col(\"random\").mul(10))))\n",
    "print((df.filter(pl.col(\"nrs\").gt(pl.col(\"random\").mul(10)))))"
   ]
  },
  {
   "cell_type": "code",
   "execution_count": 16,
   "metadata": {},
   "outputs": [
    {
     "name": "stdout",
     "output_type": "stream",
     "text": [
      "shape: (3, 2)\n",
      "┌─────┬──────────┐\n",
      "│ nrs ┆ random   │\n",
      "│ --- ┆ ---      │\n",
      "│ i64 ┆ f64      │\n",
      "╞═════╪══════════╡\n",
      "│ 1   ┆ 0.37454  │\n",
      "│ 4   ┆ 0.598658 │\n",
      "│ 5   ┆ 0.156019 │\n",
      "└─────┴──────────┘\n"
     ]
    }
   ],
   "source": [
    "(df.filter(pl.col(\"nrs\").gt(3).or_(pl.col(\"nrs\").eq(1))))\n",
    "print((df.filter(pl.col(\"nrs\").gt(3).or_(pl.col(\"nrs\").eq(1)))))"
   ]
  },
  {
   "cell_type": "markdown",
   "metadata": {},
   "source": [
    "## group_by().agg()"
   ]
  },
  {
   "cell_type": "code",
   "execution_count": 17,
   "metadata": {},
   "outputs": [
    {
     "name": "stdout",
     "output_type": "stream",
     "text": [
      "shape: (2, 3)\n",
      "┌───────┬─────┬──────────┐\n",
      "│ group ┆ nrs ┆ random   │\n",
      "│ ---   ┆ --- ┆ ---      │\n",
      "│ str   ┆ i64 ┆ f64      │\n",
      "╞═══════╪═════╪══════════╡\n",
      "│ a     ┆ 6   ┆ 0.685749 │\n",
      "│ b     ┆ 9   ┆ 0.377339 │\n",
      "└───────┴─────┴──────────┘\n"
     ]
    }
   ],
   "source": [
    "(\n",
    "    df.with_columns(group=pl.Series(list(\"aaabb\")).explode())\n",
    "    .group_by(\"group\")\n",
    "    .agg(pl.col(\"nrs\").sum(), pl.col(\"random\").mean())\n",
    ")\n",
    "\n",
    "print(\n",
    "    (\n",
    "        df.with_columns(group=pl.Series(list(\"aaabb\")).explode())\n",
    "        .group_by(\"group\")\n",
    "        .agg(pl.col(\"nrs\").sum(), pl.col(\"random\").mean())\n",
    "    )\n",
    ")"
   ]
  },
  {
   "cell_type": "code",
   "execution_count": 18,
   "metadata": {},
   "outputs": [
    {
     "name": "stdout",
     "output_type": "stream",
     "text": [
      "shape: (2, 3)\n",
      "┌───────┬─────┬──────────┐\n",
      "│ group ┆ nrs ┆ random   │\n",
      "│ ---   ┆ --- ┆ ---      │\n",
      "│ str   ┆ i64 ┆ f64      │\n",
      "╞═══════╪═════╪══════════╡\n",
      "│ a     ┆ 6   ┆ 0.685749 │\n",
      "│ b     ┆ 9   ┆ 0.377339 │\n",
      "└───────┴─────┴──────────┘\n"
     ]
    }
   ],
   "source": [
    "(\n",
    "    df.with_columns(group=pl.Series(list(\"aaabb\")).explode())\n",
    "    .group_by(\"group\")\n",
    "    .agg(pl.sum(\"nrs\"), pl.mean(\"random\"))\n",
    ")\n",
    "\n",
    "print(\n",
    "    (\n",
    "        df.with_columns(group=pl.Series(list(\"aaabb\")).explode())\n",
    "        .group_by(\"group\")\n",
    "        .agg(pl.sum(\"nrs\"), pl.mean(\"random\"))\n",
    "    )\n",
    ")"
   ]
  },
  {
   "cell_type": "markdown",
   "metadata": {},
   "source": [
    "## Pandas-like index"
   ]
  },
  {
   "cell_type": "code",
   "execution_count": 19,
   "metadata": {},
   "outputs": [
    {
     "name": "stdout",
     "output_type": "stream",
     "text": [
      "shape: (2, 2)\n",
      "┌──────────┬─────┐\n",
      "│ random   ┆ nrs │\n",
      "│ ---      ┆ --- │\n",
      "│ f64      ┆ i64 │\n",
      "╞══════════╪═════╡\n",
      "│ 0.950714 ┆ 2   │\n",
      "│ 0.598658 ┆ 4   │\n",
      "└──────────┴─────┘\n"
     ]
    }
   ],
   "source": [
    "df[[1, 3], [1, 0]]\n",
    "print(df[[1, 3], [1, 0]])"
   ]
  },
  {
   "cell_type": "code",
   "execution_count": 20,
   "metadata": {},
   "outputs": [
    {
     "name": "stdout",
     "output_type": "stream",
     "text": [
      "shape: (2, 2)\n",
      "┌──────────┬─────┐\n",
      "│ random   ┆ nrs │\n",
      "│ ---      ┆ --- │\n",
      "│ f64      ┆ i64 │\n",
      "╞══════════╪═════╡\n",
      "│ 0.950714 ┆ 2   │\n",
      "│ 0.598658 ┆ 4   │\n",
      "└──────────┴─────┘\n"
     ]
    }
   ],
   "source": [
    "df[[1, 3], [\"random\", \"nrs\"]]\n",
    "print(df[[1, 3], [\"random\", \"nrs\"]])"
   ]
  }
 ],
 "metadata": {
  "kernelspec": {
   "display_name": "venv",
   "language": "python",
   "name": "python3"
  },
  "language_info": {
   "codemirror_mode": {
    "name": "ipython",
    "version": 3
   },
   "file_extension": ".py",
   "mimetype": "text/x-python",
   "name": "python",
   "nbconvert_exporter": "python",
   "pygments_lexer": "ipython3",
   "version": "3.11.9"
  }
 },
 "nbformat": 4,
 "nbformat_minor": 2
}
